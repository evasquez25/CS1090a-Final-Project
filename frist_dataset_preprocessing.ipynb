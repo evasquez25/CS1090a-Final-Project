{
 "cells": [
  {
   "cell_type": "code",
   "execution_count": 1,
   "metadata": {},
   "outputs": [],
   "source": [
    "import pandas as pd"
   ]
  },
  {
   "cell_type": "code",
   "execution_count": 47,
   "metadata": {},
   "outputs": [
    {
     "name": "stdout",
     "output_type": "stream",
     "text": [
      "(85588, 12)\n",
      "(86038, 12)\n",
      "(82020, 12)\n",
      "(79456, 12)\n",
      "(85237, 12)\n",
      "(79789, 12)\n",
      "(90018, 12)\n",
      "(94244, 12)\n",
      "(96261, 12)\n",
      "(102800, 12)\n",
      "(111312, 12)\n",
      "(110050, 12)\n",
      "(108072, 12)\n",
      "(107947, 12)\n",
      "(121485, 12)\n"
     ]
    },
    {
     "name": "stderr",
     "output_type": "stream",
     "text": [
      "/var/folders/04/2hwl1j9x5yl1hdpnd9k3jlqw0000gn/T/ipykernel_65182/2826061232.py:6: DtypeWarning: Columns (5) have mixed types. Specify dtype option on import or set low_memory=False.\n",
      "  df = pd.read_csv(file_name) # Df to read each year's csv\n"
     ]
    },
    {
     "name": "stdout",
     "output_type": "stream",
     "text": [
      "(163480, 12)\n",
      "(100963, 12)\n",
      "(118895, 12)\n"
     ]
    },
    {
     "name": "stderr",
     "output_type": "stream",
     "text": [
      "/var/folders/04/2hwl1j9x5yl1hdpnd9k3jlqw0000gn/T/ipykernel_65182/2826061232.py:6: DtypeWarning: Columns (5) have mixed types. Specify dtype option on import or set low_memory=False.\n",
      "  df = pd.read_csv(file_name) # Df to read each year's csv\n"
     ]
    },
    {
     "name": "stdout",
     "output_type": "stream",
     "text": [
      "(146939, 12)\n",
      "(112448, 12)\n",
      "(102969, 12)\n",
      "(101255, 12)\n",
      "(88984, 12)\n",
      "(85951, 12)\n",
      "(80252, 12)\n"
     ]
    },
    {
     "name": "stderr",
     "output_type": "stream",
     "text": [
      "/var/folders/04/2hwl1j9x5yl1hdpnd9k3jlqw0000gn/T/ipykernel_65182/2826061232.py:6: DtypeWarning: Columns (5) have mixed types. Specify dtype option on import or set low_memory=False.\n",
      "  df = pd.read_csv(file_name) # Df to read each year's csv\n"
     ]
    },
    {
     "name": "stdout",
     "output_type": "stream",
     "text": [
      "(69489, 12)\n",
      "(60424, 12)\n",
      "(58849, 12)\n",
      "(53258, 12)\n",
      "(55493, 12)\n",
      "{('headline', 'source', 'word_count', 'url', 'print_section', 'print_page', 'author', 'type', 'pub_date', 'news_desk', 'section', 'year'): 30}\n",
      "{(dtype('O'), dtype('O'), dtype('int64'), dtype('O'), dtype('O'), dtype('float64'), dtype('O'), dtype('O'), dtype('O'), dtype('O'), dtype('O'), dtype('int64')): 19, (dtype('O'), dtype('O'), dtype('float64'), dtype('O'), dtype('O'), dtype('float64'), dtype('O'), dtype('O'), dtype('O'), dtype('O'), dtype('O'), dtype('float64')): 1, (dtype('O'), dtype('O'), dtype('int64'), dtype('O'), dtype('O'), dtype('O'), dtype('O'), dtype('O'), dtype('O'), dtype('O'), dtype('O'), dtype('int64')): 10}\n"
     ]
    }
   ],
   "source": [
    "vars_dict = {}\n",
    "dtypes_dict = {}\n",
    "\n",
    "for i in range(1991, 2021):\n",
    "    file_name = '../data/new_york_times_stories_' + str(i) + '.csv'\n",
    "    df = pd.read_csv(file_name) # Df to read each year's csv\n",
    "    print(df.shape)\n",
    "    \n",
    "    df_vars = tuple(df.columns) # A tuple of variables for this df, for this year's csv that is\n",
    "    vars_dtypes = tuple(df.dtypes)\n",
    "    \n",
    "    # See how many different columns names we have\n",
    "    if df_vars not in vars_dict:\n",
    "        vars_dict[df_vars] = 1\n",
    "    else:\n",
    "        vars_dict[df_vars] += 1\n",
    "    \n",
    "    # See all the different permutations of datatypes we have\n",
    "    if vars_dtypes not in dtypes_dict:\n",
    "        dtypes_dict[vars_dtypes] = 1\n",
    "    else:\n",
    "        dtypes_dict[vars_dtypes] += 1\n",
    "    \n",
    "print(vars_dict)\n",
    "print(dtypes_dict)\n",
    "    "
   ]
  },
  {
   "cell_type": "code",
   "execution_count": 48,
   "metadata": {},
   "outputs": [
    {
     "name": "stderr",
     "output_type": "stream",
     "text": [
      "/var/folders/04/2hwl1j9x5yl1hdpnd9k3jlqw0000gn/T/ipykernel_65182/2453709323.py:1: DtypeWarning: Columns (5) have mixed types. Specify dtype option on import or set low_memory=False.\n",
      "  dfs = [pd.read_csv('data/new_york_times_stories_' + str(i) + '.csv') for i in range(1991, 2021)]\n",
      "/var/folders/04/2hwl1j9x5yl1hdpnd9k3jlqw0000gn/T/ipykernel_65182/2453709323.py:1: DtypeWarning: Columns (5) have mixed types. Specify dtype option on import or set low_memory=False.\n",
      "  dfs = [pd.read_csv('data/new_york_times_stories_' + str(i) + '.csv') for i in range(1991, 2021)]\n",
      "/var/folders/04/2hwl1j9x5yl1hdpnd9k3jlqw0000gn/T/ipykernel_65182/2453709323.py:1: DtypeWarning: Columns (5) have mixed types. Specify dtype option on import or set low_memory=False.\n",
      "  dfs = [pd.read_csv('data/new_york_times_stories_' + str(i) + '.csv') for i in range(1991, 2021)]\n"
     ]
    }
   ],
   "source": [
    "dfs = [pd.read_csv('data/new_york_times_stories_' + str(i) + '.csv') for i in range(1991, 2021)]\n",
    "df = pd.concat(dfs, axis=0)"
   ]
  },
  {
   "cell_type": "code",
   "execution_count": 49,
   "metadata": {},
   "outputs": [
    {
     "data": {
      "text/plain": [
       "(2839966, 12)"
      ]
     },
     "execution_count": 49,
     "metadata": {},
     "output_type": "execute_result"
    }
   ],
   "source": [
    "df.shape"
   ]
  },
  {
   "cell_type": "code",
   "execution_count": 53,
   "metadata": {},
   "outputs": [
    {
     "data": {
      "text/plain": [
       "headline            582\n",
       "source                2\n",
       "word_count            2\n",
       "url                   2\n",
       "print_section    689575\n",
       "print_page       690821\n",
       "author           728708\n",
       "type                  2\n",
       "pub_date              2\n",
       "news_desk        305231\n",
       "section            1095\n",
       "year                  2\n",
       "dtype: int64"
      ]
     },
     "execution_count": 53,
     "metadata": {},
     "output_type": "execute_result"
    }
   ],
   "source": [
    "(df.isna()).sum()"
   ]
  },
  {
   "cell_type": "code",
   "execution_count": null,
   "metadata": {},
   "outputs": [],
   "source": []
  }
 ],
 "metadata": {
  "kernelspec": {
   "display_name": "Python 3",
   "language": "python",
   "name": "python3"
  },
  "language_info": {
   "codemirror_mode": {
    "name": "ipython",
    "version": 3
   },
   "file_extension": ".py",
   "mimetype": "text/x-python",
   "name": "python",
   "nbconvert_exporter": "python",
   "pygments_lexer": "ipython3",
   "version": "3.12.5"
  }
 },
 "nbformat": 4,
 "nbformat_minor": 2
}
