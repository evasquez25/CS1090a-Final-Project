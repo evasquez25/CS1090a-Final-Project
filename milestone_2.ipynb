{
 "cells": [
  {
   "cell_type": "code",
   "execution_count": 11,
   "id": "6a9c90ea-7738-49e9-8cee-98441f3de4e4",
   "metadata": {},
   "outputs": [],
   "source": [
    "import numpy as np\n",
    "import matplotlib.pyplot as plt\n",
    "import pandas as pd"
   ]
  },
  {
   "cell_type": "markdown",
   "id": "09554b83-4a4f-4466-94d6-a2192223b476",
   "metadata": {},
   "source": [
    "<h1 style='background-color: skyblue; padding: 30px;'>Writeup</h1>"
   ]
  },
  {
   "cell_type": "markdown",
   "id": "1fae7418-2f45-43c4-8325-f8b73618d437",
   "metadata": {},
   "source": [
    "<h2> Project Proposal Title: Evolution of NYT Headlines Over the Last Century </h2>\n",
    "<h3>Milestone 2</h3>\n",
    "<h3>Goal: Clean the two datasets to prepare for analysis. </h3>\n",
    "\n",
    "<ol>\n",
    "    <li>\"Three Decades of New York Times Headlines\"</li>\n",
    "    <ul>\n",
    "        <li>\n",
    "            This dataset consists of 31 separate files, each containing similar information on article headlines, source, word count, URL, print section, print page, author, type, publication date, news desk, section, and year. \n",
    "        </li>\n",
    "        <li>\n",
    "            Before merging these datasets, we reviewed them and noticed some inconsistencies in data types. For example, a variable might appear as letters in one file and numbers in another. Additionally, some columns didn’t follow a consistent format, such as the publication date, which sometimes includes date, hour, and time in a sentence format. We plan to standardize this format later.\n",
    "        </li>\n",
    "        <li>\n",
    "            For this milestone, we standardized column data types, merged all files into a single DataFrame, and checked for missing data. The combined DataFrame now has around 2.8 million records, with some missing values: about 600 headlines, over 700,000 authors, and over 700,000 print page entries.\n",
    "        </li>\n",
    "        <li>\n",
    "            Some authors' names are intentionally left blank, likely for privacy on sensitive topics. Since this missing data doesn’t seem to follow any specific pattern (e.g., more missing data in one decade over another), we chose to focus on the variables that are most critical to our analysis: headlines and News Desk. After assessing the impact, we decided to drop records with missing headlines, as the number of missing entries is minimal and unlikely to affect the results.\n",
    "        </li>\n",
    "    </ul>\n",
    "    <li>\"New York Times Articles 1920-2020\"</li>\n",
    "        <ul>\n",
    "            <li>\n",
    "                This dataset covers titles and excerpts from New York Times articles between 1920 and 2020, with over 17 million records. Some titles and excerpts are missing, but titles are prioritized for our analysis.\n",
    "            </li>\n",
    "            <li>\n",
    "                Out of 17 million entries, only 261 titles are missing. We reviewed these missing values and confirmed they appear to be randomly distributed rather than concentrated in a particular era, like the 1920s. Therefore, we decided to drop these missing title records, as they are few enough to have minimal impact.\n",
    "            </li>\n",
    "        </ul>\n",
    "    <div style=\"text-align: center;\">\n",
    "        <img src='missingness_graph.png' style='text-align: center'>\n",
    "    </div>\n",
    "    <li>Next Steps: The cleaned datasets are ready for further analysis.</li>\n",
    "</ol>"
   ]
  },
  {
   "cell_type": "markdown",
   "id": "10221757-f59b-4fb9-a83f-985936a2a760",
   "metadata": {},
   "source": [
    "—----------------------------------------------------------------------------------------------------------------------------"
   ]
  },
  {
   "cell_type": "markdown",
   "id": "4df06344-1242-4cc2-9072-5a4077eecd3c",
   "metadata": {},
   "source": [
    "<ol>\n",
    "    <li style='font-weight: bold'>\"Train Data\" -> 1990 - 2020</li>\n",
    "    <ol>\n",
    "        <li>\n",
    "            We accessed our data as yearly CSV files from 1990 to 2020.\n",
    "        </li>\n",
    "        <li>\n",
    "            We aim to Combine the CSV files into one mega data set\n",
    "        </li>\n",
    "        <li>\n",
    "            We first confirmed that each yearly file has the same column names.\n",
    "        </li>\n",
    "        <li>\n",
    "            ✅ We successfully combined the yearly CSV files to our mega data frame! \n",
    "        </li>\n",
    "        <li>\n",
    "            We also noticed that our columns do not have uniform data types, although these are likely small differences. For instance, there are columns with Dtype 0, which is an object in pandas and stores strings. The column Pub_date gives the date, horu and time. We will decide on the fromat we want later on. \n",
    "            <p>\t📌 We can clean up the columns so that we have uniform data types.</p>\n",
    "        </li>\n",
    "        <li>\n",
    "            We combined the yearly CSV files to our mega data frame\n",
    "        </li>\n",
    "        <li>\n",
    "            In the merged DataFrame, we have 2,839,966 rows and we are missing around 600 headlines\n",
    "        </li>\n",
    "        <li>\n",
    "            Missing 700K authors, 700K print pages.\n",
    "        </li>\n",
    "    </ol>\n",
    "    <br>\n",
    "    <li style='font-weight: bold'>“Test Data” → 1900 - 2020</li>\n",
    "    <ol>\n",
    "        <li>\n",
    "            A parquet file.\n",
    "        </li>\n",
    "        <li>\n",
    "            Unpacked and saved as a data frame in our jupyter lab.  \n",
    "        </li>\n",
    "        <li>\n",
    "            This data frame contains 17M entries with year, title, and excerpt columns.\n",
    "        </li>\n",
    "        <li>\n",
    "            We notice that there are some rows with missing excerpts and/or titles.\n",
    "            <ul>\n",
    "                <li>\n",
    "                    Before dropping, we tried to identify the type of missingness to identify if there is any pattern of missingness.\n",
    "                </li>\n",
    "                <li>\n",
    "                    We plotted a bar chart showing the total number of missing titles by year and observed that they appear to be missing completely at random. Drop columns without title → There are only 261 missing rows out of 17M, which is like a drop in the ocean.\n",
    "                </li>\n",
    "            </ul>\n",
    "        </li>\n",
    "    </ol>\n",
    "</ol>"
   ]
  },
  {
   "cell_type": "markdown",
   "id": "1d80f2e7-a8ab-4850-a754-a5b588cf6788",
   "metadata": {},
   "source": [
    "<h1 style='background-color: skyblue; padding: 30px;'>First Dataset Preprocessing Code</h1>"
   ]
  },
  {
   "cell_type": "code",
   "execution_count": 12,
   "id": "53b33766-6d60-47a5-bb46-0bd5013db70b",
   "metadata": {},
   "outputs": [
    {
     "name": "stdout",
     "output_type": "stream",
     "text": [
      "(85588, 12)\n",
      "(86038, 12)\n",
      "(82020, 12)\n",
      "(79456, 12)\n",
      "(85237, 12)\n",
      "(79789, 12)\n",
      "(90018, 12)\n",
      "(94244, 12)\n",
      "(96261, 12)\n",
      "(102800, 12)\n",
      "(111312, 12)\n",
      "(110050, 12)\n",
      "(108072, 12)\n",
      "(107947, 12)\n",
      "(121485, 12)\n"
     ]
    },
    {
     "name": "stderr",
     "output_type": "stream",
     "text": [
      "/var/folders/vh/x1p02zqj5x78gmpv_zv7vgfr0000gn/T/ipykernel_12042/373849287.py:6: DtypeWarning: Columns (5) have mixed types. Specify dtype option on import or set low_memory=False.\n",
      "  df = pd.read_csv(file_name) # Df to read each year's csv\n"
     ]
    },
    {
     "name": "stdout",
     "output_type": "stream",
     "text": [
      "(163480, 12)\n",
      "(100963, 12)\n",
      "(118895, 12)\n"
     ]
    },
    {
     "name": "stderr",
     "output_type": "stream",
     "text": [
      "/var/folders/vh/x1p02zqj5x78gmpv_zv7vgfr0000gn/T/ipykernel_12042/373849287.py:6: DtypeWarning: Columns (5) have mixed types. Specify dtype option on import or set low_memory=False.\n",
      "  df = pd.read_csv(file_name) # Df to read each year's csv\n"
     ]
    },
    {
     "name": "stdout",
     "output_type": "stream",
     "text": [
      "(146939, 12)\n",
      "(112448, 12)\n",
      "(102969, 12)\n",
      "(101255, 12)\n",
      "(88984, 12)\n",
      "(85951, 12)\n",
      "(80252, 12)\n"
     ]
    },
    {
     "name": "stderr",
     "output_type": "stream",
     "text": [
      "/var/folders/vh/x1p02zqj5x78gmpv_zv7vgfr0000gn/T/ipykernel_12042/373849287.py:6: DtypeWarning: Columns (5) have mixed types. Specify dtype option on import or set low_memory=False.\n",
      "  df = pd.read_csv(file_name) # Df to read each year's csv\n"
     ]
    },
    {
     "name": "stdout",
     "output_type": "stream",
     "text": [
      "(69489, 12)\n",
      "(60424, 12)\n",
      "(58849, 12)\n",
      "(53258, 12)\n",
      "(55493, 12)\n",
      "{('headline', 'source', 'word_count', 'url', 'print_section', 'print_page', 'author', 'type', 'pub_date', 'news_desk', 'section', 'year'): 30}\n",
      "{(dtype('O'), dtype('O'), dtype('int64'), dtype('O'), dtype('O'), dtype('float64'), dtype('O'), dtype('O'), dtype('O'), dtype('O'), dtype('O'), dtype('int64')): 19, (dtype('O'), dtype('O'), dtype('float64'), dtype('O'), dtype('O'), dtype('float64'), dtype('O'), dtype('O'), dtype('O'), dtype('O'), dtype('O'), dtype('float64')): 1, (dtype('O'), dtype('O'), dtype('int64'), dtype('O'), dtype('O'), dtype('O'), dtype('O'), dtype('O'), dtype('O'), dtype('O'), dtype('O'), dtype('int64')): 10}\n"
     ]
    }
   ],
   "source": [
    "vars_dict = {}\n",
    "dtypes_dict = {}\n",
    "\n",
    "for i in range(1991, 2021):\n",
    "    file_name = 'data/dataset_1/new_york_times_stories_' + str(i) + '.csv'\n",
    "    df = pd.read_csv(file_name) # Df to read each year's csv\n",
    "    print(df.shape)\n",
    "    \n",
    "    df_vars = tuple(df.columns) # A tuple of variables for this df, for this year's csv that is\n",
    "    vars_dtypes = tuple(df.dtypes)\n",
    "    \n",
    "    # See how many different columns names we have\n",
    "    if df_vars not in vars_dict:\n",
    "        vars_dict[df_vars] = 1\n",
    "    else:\n",
    "        vars_dict[df_vars] += 1\n",
    "    \n",
    "    # See all the different permutations of datatypes we have\n",
    "    if vars_dtypes not in dtypes_dict:\n",
    "        dtypes_dict[vars_dtypes] = 1\n",
    "    else:\n",
    "        dtypes_dict[vars_dtypes] += 1\n",
    "    \n",
    "print(vars_dict)\n",
    "print(dtypes_dict)"
   ]
  },
  {
   "cell_type": "code",
   "execution_count": 13,
   "id": "506ab37a-334c-4df6-a19c-b479b69986ca",
   "metadata": {},
   "outputs": [
    {
     "name": "stderr",
     "output_type": "stream",
     "text": [
      "/var/folders/vh/x1p02zqj5x78gmpv_zv7vgfr0000gn/T/ipykernel_12042/1932329002.py:1: DtypeWarning: Columns (5) have mixed types. Specify dtype option on import or set low_memory=False.\n",
      "  dfs = [pd.read_csv('data/dataset_1/new_york_times_stories_' + str(i) + '.csv') for i in range(1991, 2021)]\n",
      "/var/folders/vh/x1p02zqj5x78gmpv_zv7vgfr0000gn/T/ipykernel_12042/1932329002.py:1: DtypeWarning: Columns (5) have mixed types. Specify dtype option on import or set low_memory=False.\n",
      "  dfs = [pd.read_csv('data/dataset_1/new_york_times_stories_' + str(i) + '.csv') for i in range(1991, 2021)]\n",
      "/var/folders/vh/x1p02zqj5x78gmpv_zv7vgfr0000gn/T/ipykernel_12042/1932329002.py:1: DtypeWarning: Columns (5) have mixed types. Specify dtype option on import or set low_memory=False.\n",
      "  dfs = [pd.read_csv('data/dataset_1/new_york_times_stories_' + str(i) + '.csv') for i in range(1991, 2021)]\n"
     ]
    }
   ],
   "source": [
    "dfs = [pd.read_csv('data/dataset_1/new_york_times_stories_' + str(i) + '.csv') for i in range(1991, 2021)]\n",
    "df = pd.concat(dfs, axis=0)"
   ]
  },
  {
   "cell_type": "code",
   "execution_count": 14,
   "id": "c12d7a42-d8e0-4aa0-b1f1-a34ca277057f",
   "metadata": {},
   "outputs": [
    {
     "data": {
      "text/plain": [
       "(2839966, 12)"
      ]
     },
     "execution_count": 14,
     "metadata": {},
     "output_type": "execute_result"
    }
   ],
   "source": [
    "df.shape"
   ]
  },
  {
   "cell_type": "code",
   "execution_count": 15,
   "id": "07da613f-d50e-4025-852f-79a7f67b4b5d",
   "metadata": {},
   "outputs": [
    {
     "data": {
      "text/plain": [
       "headline            582\n",
       "source                2\n",
       "word_count            2\n",
       "url                   2\n",
       "print_section    689575\n",
       "print_page       690821\n",
       "author           728708\n",
       "type                  2\n",
       "pub_date              2\n",
       "news_desk        305231\n",
       "section            1095\n",
       "year                  2\n",
       "dtype: int64"
      ]
     },
     "execution_count": 15,
     "metadata": {},
     "output_type": "execute_result"
    }
   ],
   "source": [
    "(df.isna()).sum()"
   ]
  },
  {
   "cell_type": "markdown",
   "id": "f0c363b0-69c5-4a04-9b9e-28e03c3f74bc",
   "metadata": {},
   "source": [
    "<h1 style='background-color: skyblue; padding: 30px;'>Second Dataset Preprocessing Code</h1>"
   ]
  },
  {
   "cell_type": "code",
   "execution_count": 16,
   "id": "66d72811-68a5-4de9-a123-08aefc30d16d",
   "metadata": {},
   "outputs": [
    {
     "data": {
      "text/html": [
       "<div>\n",
       "<style scoped>\n",
       "    .dataframe tbody tr th:only-of-type {\n",
       "        vertical-align: middle;\n",
       "    }\n",
       "\n",
       "    .dataframe tbody tr th {\n",
       "        vertical-align: top;\n",
       "    }\n",
       "\n",
       "    .dataframe thead th {\n",
       "        text-align: right;\n",
       "    }\n",
       "</style>\n",
       "<table border=\"1\" class=\"dataframe\">\n",
       "  <thead>\n",
       "    <tr style=\"text-align: right;\">\n",
       "      <th></th>\n",
       "      <th>year</th>\n",
       "      <th>title</th>\n",
       "      <th>excerpt</th>\n",
       "    </tr>\n",
       "  </thead>\n",
       "  <tbody>\n",
       "    <tr>\n",
       "      <th>0</th>\n",
       "      <td>1920</td>\n",
       "      <td>At last the Federal Reserve Board has issued r...</td>\n",
       "      <td></td>\n",
       "    </tr>\n",
       "    <tr>\n",
       "      <th>1</th>\n",
       "      <td>1920</td>\n",
       "      <td>WILL TEST DOOR SERVICE.</td>\n",
       "      <td>Service Board to Further Examine I.R.T. Safety...</td>\n",
       "    </tr>\n",
       "    <tr>\n",
       "      <th>2</th>\n",
       "      <td>1920</td>\n",
       "      <td>Sanction for Chinese Contracts.</td>\n",
       "      <td></td>\n",
       "    </tr>\n",
       "    <tr>\n",
       "      <th>3</th>\n",
       "      <td>1920</td>\n",
       "      <td>LEADS FRAZIER BY 4,496.</td>\n",
       "      <td>Langer's Margin Falls in North Dakota--Gronna ...</td>\n",
       "    </tr>\n",
       "    <tr>\n",
       "      <th>4</th>\n",
       "      <td>1920</td>\n",
       "      <td>CHICAGO, April 30.--With 300 suspicious charac...</td>\n",
       "      <td>Federal Agents and Police Round-- up Suspiciou...</td>\n",
       "    </tr>\n",
       "  </tbody>\n",
       "</table>\n",
       "</div>"
      ],
      "text/plain": [
       "   year                                              title  \\\n",
       "0  1920  At last the Federal Reserve Board has issued r...   \n",
       "1  1920                            WILL TEST DOOR SERVICE.   \n",
       "2  1920                    Sanction for Chinese Contracts.   \n",
       "3  1920                            LEADS FRAZIER BY 4,496.   \n",
       "4  1920  CHICAGO, April 30.--With 300 suspicious charac...   \n",
       "\n",
       "                                             excerpt  \n",
       "0                                                     \n",
       "1  Service Board to Further Examine I.R.T. Safety...  \n",
       "2                                                     \n",
       "3  Langer's Margin Falls in North Dakota--Gronna ...  \n",
       "4  Federal Agents and Police Round-- up Suspiciou...  "
      ]
     },
     "execution_count": 16,
     "metadata": {},
     "output_type": "execute_result"
    }
   ],
   "source": [
    "df = pd.read_parquet('data/nyt_data.parquet')\n",
    "df.head()"
   ]
  },
  {
   "cell_type": "code",
   "execution_count": 17,
   "id": "ccc50dc5-22c4-4db5-a702-e5d0cee18ab1",
   "metadata": {},
   "outputs": [
    {
     "data": {
      "text/plain": [
       "year             0\n",
       "title          261\n",
       "excerpt    9405332\n",
       "dtype: int64"
      ]
     },
     "execution_count": 17,
     "metadata": {},
     "output_type": "execute_result"
    }
   ],
   "source": [
    "(df == '').sum()"
   ]
  },
  {
   "cell_type": "code",
   "execution_count": 18,
   "id": "30542bab-4071-43ce-9fba-c36a1b99e3a7",
   "metadata": {},
   "outputs": [
    {
     "data": {
      "text/plain": [
       "Text(0.5, 1.0, 'Missing Titles by Year of Release')"
      ]
     },
     "execution_count": 18,
     "metadata": {},
     "output_type": "execute_result"
    },
    {
     "data": {
      "image/png": "[encoded data removed]",
      "text/plain": [
       "<Figure size 1000x600 with 1 Axes>"
      ]
     },
     "metadata": {},
     "output_type": "display_data"
    }
   ],
   "source": [
    "df['title_missing'] = (df['title'] == '')\n",
    "missing_by_year = df[df['title_missing']].groupby('year').size()\n",
    "\n",
    "plt.figure(figsize = (10,6))\n",
    "missing_by_year.plot(kind='bar', color = 'skyblue', edgecolor = 'black')\n",
    "plt.xlabel('Year')\n",
    "plt.xticks(rotation = 45)\n",
    "plt.ylabel('Count of Missing Titles')\n",
    "plt.title('Missing Titles by Year of Release')"
   ]
  },
  {
   "cell_type": "code",
   "execution_count": 19,
   "id": "57fa48db-1953-4af4-aa2d-1a7c4673e948",
   "metadata": {},
   "outputs": [
    {
     "name": "stderr",
     "output_type": "stream",
     "text": [
      "/var/folders/vh/x1p02zqj5x78gmpv_zv7vgfr0000gn/T/ipykernel_12042/4216446445.py:1: FutureWarning: A value is trying to be set on a copy of a DataFrame or Series through chained assignment using an inplace method.\n",
      "The behavior will change in pandas 3.0. This inplace method will never work because the intermediate object on which we are setting values always behaves as a copy.\n",
      "\n",
      "For example, when doing 'df[col].method(value, inplace=True)', try using 'df.method({col: value}, inplace=True)' or df[col] = df[col].method(value) instead, to perform the operation inplace on the original object.\n",
      "\n",
      "\n",
      "  df['title'].replace('', np.nan, inplace = True)\n"
     ]
    },
    {
     "data": {
      "text/plain": [
       "year                   0\n",
       "title                  0\n",
       "excerpt          9405332\n",
       "title_missing          0\n",
       "dtype: int64"
      ]
     },
     "execution_count": 19,
     "metadata": {},
     "output_type": "execute_result"
    }
   ],
   "source": [
    "df['title'].replace('', np.nan, inplace = True)\n",
    "df['title'].dropna(inplace = True)\n",
    "\n",
    "(df == '').sum()"
   ]
  }
 ],
 "metadata": {
  "kernelspec": {
   "display_name": "Python 3 (ipykernel)",
   "language": "python",
   "name": "python3"
  },
  "language_info": {
   "codemirror_mode": {
    "name": "ipython",
    "version": 3
   },
   "file_extension": ".py",
   "mimetype": "text/x-python",
   "name": "python",
   "nbconvert_exporter": "python",
   "pygments_lexer": "ipython3",
   "version": "3.12.6"
  }
 },
 "nbformat": 4,
 "nbformat_minor": 5
}
